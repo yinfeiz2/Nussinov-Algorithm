{
  "nbformat": 4,
  "nbformat_minor": 0,
  "metadata": {
    "colab": {
      "name": "Nussinov Algorithm.ipynb",
      "provenance": []
    },
    "kernelspec": {
      "name": "python3",
      "display_name": "Python 3"
    }
  },
  "cells": [
    {
      "cell_type": "code",
      "metadata": {
        "id": "pZUJX-pRk41L"
      },
      "source": [
        "import numpy as np"
      ],
      "execution_count": 1,
      "outputs": []
    },
    {
      "cell_type": "code",
      "metadata": {
        "id": "DFR93058lLCp"
      },
      "source": [
        "# Return true if a and b form a base pair\n",
        "def is_base_pair(a, b):\n",
        "    if a == 'A':\n",
        "        return b == 'U'\n",
        "    if a == 'U':\n",
        "        return b == 'A'\n",
        "    if a == 'C':\n",
        "        return b == 'G'\n",
        "    if a == 'G':\n",
        "        return b == 'C'\n",
        "    return False\n",
        "\n",
        "# Given RNA sequence v, return an n x n matrix S\n",
        "# where S[i, j] is the maximum number of\n",
        "# pseudoknot-free base pairs in subsequence vi through vj\n",
        "def nussinov(sequence):\n",
        "    n = len(sequence)\n",
        "    dp_matrix = np.zeros((n,n)) # The n x n matrix S for dynamic programming\n",
        "\n",
        "    for k in range(n - 1): # There are k = n - 1 iterations\n",
        "        for i in range(n - k - 1): # There are i = n - k - 1 entries to compute in kth iteration \n",
        "            j = i + k + 1\n",
        "\n",
        "            # Case 1: i and j form a base pair\n",
        "            case_1 = 0\n",
        "            if is_base_pair(sequence[i], sequence[j]):\n",
        "                case_1 = dp_matrix[i + 1, j - 1] + 1\n",
        "\n",
        "            # Case 2: i is unpaired\n",
        "            case_2 = dp_matrix[i + 1, j]\n",
        "\n",
        "            # Case 3: j is unpaired\n",
        "            case_3 = dp_matrix[i, j - 1]\n",
        "\n",
        "            # Case 4: bifurcation\n",
        "            case_4 = 0\n",
        "            for b in range(i + 1, j):\n",
        "                curr_value = dp_matrix[i, b] + dp_matrix[b + 1, j]\n",
        "                if curr_value > case_4:\n",
        "                    case_4 = curr_value\n",
        "\n",
        "            # Take the maximum of all four cases above\n",
        "            dp_matrix[i, j] = max(case_1, case_2, case_3, case_4)\n",
        "\n",
        "    return dp_matrix\n",
        "\n",
        "# Given the n x n matrix S from Nussinov Algorithm, \n",
        "# return the secondary structure as a list of index pairs\n",
        "def traceback(dp_matrix):\n",
        "    n = dp_matrix.shape[0]\n",
        "    stack = [] # a stack for the traceback step\n",
        "    base_pairs = [] # the list of index pairs\n",
        "\n",
        "    stack.append((0, n - 1))\n",
        "    while stack:\n",
        "        i, j = stack.pop()\n",
        "\n",
        "        # Base case\n",
        "        if i >= j:\n",
        "            continue\n",
        "\n",
        "        # Case 2: i is unpaired\n",
        "        if dp_matrix[i + 1, j] == dp_matrix[i, j]:\n",
        "            stack.append((i + 1, j))\n",
        "\n",
        "        # Case 3: j is unpaired\n",
        "        elif dp_matrix[i, j - 1] == dp_matrix[i, j]:\n",
        "            stack.append((i, j - 1))\n",
        "\n",
        "        # Case 1: i and j form a base pair\n",
        "        elif dp_matrix[i + 1, j - 1] + 1 == dp_matrix[i, j]:\n",
        "            base_pairs.append((i, j))\n",
        "            stack.append((i + 1, j - 1))\n",
        "\n",
        "        # Case 4: bifurcation\n",
        "        else:\n",
        "            for b in range(i + 1, j):\n",
        "                if dp_matrix[i, b] + dp_matrix[b + 1, j] == dp_matrix[i, j]:\n",
        "                    stack.append((b + 1, j))\n",
        "                    stack.append((i, b))\n",
        "                    break\n",
        "\n",
        "    return base_pairs"
      ],
      "execution_count": 2,
      "outputs": []
    },
    {
      "cell_type": "code",
      "metadata": {
        "id": "pAurjO4XQQu6"
      },
      "source": [
        "# Given RNA sequence v, return an n x n matrix S\n",
        "# and backpointers which prioritize case 1\n",
        "def nussinov_with_backpointers(sequence):\n",
        "    n = len(sequence)\n",
        "    dp_matrix = np.zeros((n,n)) # The n x n matrix S for dynamic programming\n",
        "    backpointers = np.zeros((n,n)) # The n x n matrix of backpointers\n",
        "\n",
        "    for k in range(n - 1): # There are k = n - 1 iterations\n",
        "        for i in range(n - k - 1): # There are i = n - k - 1 entries to compute in kth iteration \n",
        "            j = i + k + 1\n",
        "\n",
        "            # Case 1: i and j form a base pair\n",
        "            case_1 = 0\n",
        "            if is_base_pair(sequence[i], sequence[j]):\n",
        "                case_1 = dp_matrix[i + 1, j - 1] + 1\n",
        "\n",
        "            # Case 2: i is unpaired\n",
        "            case_2 = dp_matrix[i + 1, j]\n",
        "\n",
        "            # Case 3: j is unpaired\n",
        "            case_3 = dp_matrix[i, j - 1]\n",
        "\n",
        "            # Case 4: bifurcation\n",
        "            case_4 = 0\n",
        "            for b in range(i + 1, j):\n",
        "                curr_value = dp_matrix[i, b] + dp_matrix[b + 1, j]\n",
        "                if curr_value > case_4:\n",
        "                    case_4 = curr_value\n",
        "\n",
        "            # Take the maximum of all four cases above\n",
        "            dp_matrix[i, j] = max(case_1, case_2, case_3, case_4)\n",
        "\n",
        "            # Set the corresponding backpointer\n",
        "            if dp_matrix[i, j] == 0:\n",
        "                backpointers[i, j] = 2\n",
        "            elif dp_matrix[i, j] == case_1:\n",
        "                backpointers[i, j] = 1\n",
        "            elif dp_matrix[i, j] == case_2:\n",
        "                backpointers[i, j] = 2\n",
        "            elif dp_matrix[i, j] == case_3:\n",
        "                backpointers[i, j] = 3\n",
        "            else:\n",
        "                backpointers[i, j] = 4\n",
        "\n",
        "    return dp_matrix, backpointers\n",
        "\n",
        "# Given the n x n matrix S and backpointers from Nussinov Algorithm, \n",
        "# return the secondary structure as a list of index pairs\n",
        "def traceback_with_backpointers(dp_matrix, backpointers):\n",
        "    n = dp_matrix.shape[0]\n",
        "    stack = [] # a stack for the traceback step\n",
        "    base_pairs = [] # the list of index pairs\n",
        "\n",
        "    stack.append((0, n - 1))\n",
        "    while stack:\n",
        "        i, j = stack.pop()\n",
        "\n",
        "        # Base case\n",
        "        if i >= j:\n",
        "            continue\n",
        "\n",
        "        # Case 1: i and j form a base pair\n",
        "        if backpointers[i, j] == 1:\n",
        "            base_pairs.append((i, j))\n",
        "            stack.append((i + 1, j - 1))\n",
        "\n",
        "        # Case 2: i is unpaired\n",
        "        elif backpointers[i, j] == 2:\n",
        "            stack.append((i + 1, j))\n",
        "\n",
        "        # Case 3: j is unpaired\n",
        "        elif backpointers[i, j] == 3:\n",
        "            stack.append((i, j - 1))\n",
        "\n",
        "        # Case 4: bifurcation\n",
        "        else:\n",
        "            for b in range(i + 1, j):\n",
        "                if dp_matrix[i, b] + dp_matrix[b + 1, j] == dp_matrix[i, j]:\n",
        "                    stack.append((b + 1, j))\n",
        "                    stack.append((i, b))\n",
        "                    break\n",
        "\n",
        "    return base_pairs"
      ],
      "execution_count": 3,
      "outputs": []
    },
    {
      "cell_type": "code",
      "metadata": {
        "id": "a-2Lag86Ms-Z"
      },
      "source": [
        "# Return the number of same base pairs in a and b\n",
        "def compare_base_pairs(a, b):\n",
        "    count = 0\n",
        "    for base_pair in a:\n",
        "        if base_pair in b:\n",
        "            count += 1\n",
        "    return count\n",
        "\n",
        "# Given the sequence and index pairs, print the predicted base pairs\n",
        "def print_base_pairs(sequence, base_pairs):\n",
        "    for i, j in base_pairs:\n",
        "        print((sequence[i], sequence[j]))"
      ],
      "execution_count": 4,
      "outputs": []
    },
    {
      "cell_type": "code",
      "metadata": {
        "id": "MertxsNyJWW_",
        "colab": {
          "base_uri": "https://localhost:8080/"
        },
        "outputId": "d0343838-ce5d-4311-e1be-ad7e039cee3c"
      },
      "source": [
        "# Test correctness on mock sequences\n",
        "mock_1 = 'GGGAAAUCC'\n",
        "\n",
        "dp_matrix = nussinov(mock_1)\n",
        "base_pairs = traceback(dp_matrix)\n",
        "print('The score by Nussinov Algorithm: ' + str(len(base_pairs)))\n",
        "print('The base pairs: ' + str(base_pairs))\n",
        "print_base_pairs(mock_1, base_pairs)\n",
        "print('')\n",
        "\n",
        "dp_matrix_bp, backpointers = nussinov_with_backpointers(mock_1)\n",
        "base_pairs_bp = traceback_with_backpointers(dp_matrix_bp, backpointers)\n",
        "print('The score by Nussinov Algorithm with backpointers: ' + str(len(base_pairs_bp)))\n",
        "print('The base pairs: ' + str(base_pairs_bp))\n",
        "print_base_pairs(mock_1, base_pairs_bp)"
      ],
      "execution_count": 5,
      "outputs": [
        {
          "output_type": "stream",
          "text": [
            "The score by Nussinov Algorithm: 3\n",
            "The base pairs: [(1, 8), (2, 7), (5, 6)]\n",
            "('G', 'C')\n",
            "('G', 'C')\n",
            "('A', 'U')\n",
            "\n",
            "The score by Nussinov Algorithm with backpointers: 3\n",
            "The base pairs: [(0, 8), (1, 7), (3, 6)]\n",
            "('G', 'C')\n",
            "('G', 'C')\n",
            "('A', 'U')\n"
          ],
          "name": "stdout"
        }
      ]
    },
    {
      "cell_type": "code",
      "metadata": {
        "colab": {
          "base_uri": "https://localhost:8080/"
        },
        "id": "j5Y4k2wBi90c",
        "outputId": "ca2d6739-94cd-4d6c-8930-e65324a4df93"
      },
      "source": [
        "mock_2 = 'GCUCGGGUUCCCUAUUCAAGAGC'\n",
        "\n",
        "dp_matrix = nussinov(mock_2)\n",
        "base_pairs = traceback(dp_matrix)\n",
        "print('The score by Nussinov Algorithm: ' + str(len(base_pairs)))\n",
        "print('The base pairs: ' + str(base_pairs))\n",
        "print_base_pairs(mock_2, base_pairs)\n",
        "print('')\n",
        "\n",
        "dp_matrix_bp, backpointers = nussinov_with_backpointers(mock_2)\n",
        "base_pairs_bp = traceback_with_backpointers(dp_matrix_bp, backpointers)\n",
        "print('The score by Nussinov Algorithm with backpointers: ' + str(len(base_pairs_bp)))\n",
        "print('The base pairs: ' + str(base_pairs_bp))\n",
        "print_base_pairs(mock_2, base_pairs_bp)"
      ],
      "execution_count": 6,
      "outputs": [
        {
          "output_type": "stream",
          "text": [
            "The score by Nussinov Algorithm: 10\n",
            "The base pairs: [(0, 22), (1, 21), (2, 20), (3, 19), (4, 11), (5, 10), (6, 9), (12, 18), (13, 14), (15, 17)]\n",
            "('G', 'C')\n",
            "('C', 'G')\n",
            "('U', 'A')\n",
            "('C', 'G')\n",
            "('G', 'C')\n",
            "('G', 'C')\n",
            "('G', 'C')\n",
            "('U', 'A')\n",
            "('A', 'U')\n",
            "('U', 'A')\n",
            "\n",
            "The score by Nussinov Algorithm with backpointers: 10\n",
            "The base pairs: [(0, 22), (1, 21), (2, 20), (3, 19), (4, 11), (5, 10), (6, 9), (12, 18), (13, 14), (15, 17)]\n",
            "('G', 'C')\n",
            "('C', 'G')\n",
            "('U', 'A')\n",
            "('C', 'G')\n",
            "('G', 'C')\n",
            "('G', 'C')\n",
            "('G', 'C')\n",
            "('U', 'A')\n",
            "('A', 'U')\n",
            "('U', 'A')\n"
          ],
          "name": "stdout"
        }
      ]
    },
    {
      "cell_type": "code",
      "metadata": {
        "colab": {
          "base_uri": "https://localhost:8080/"
        },
        "id": "s_zgRm08oUP_",
        "outputId": "1c530210-e20b-4209-c52a-62f60dab963b"
      },
      "source": [
        "# Note the incorrect A-C pair predicted by Nussinov without backpointers\n",
        "mock_3 = 'UUUCCUGAAACCUCGGCAACAAUUGAA'\n",
        "\n",
        "dp_matrix = nussinov(mock_3)\n",
        "base_pairs = traceback(dp_matrix)\n",
        "print('The score by Nussinov Algorithm: ' + str(len(base_pairs)))\n",
        "print('The base pairs: ' + str(base_pairs))\n",
        "print_base_pairs(mock_3, base_pairs)\n",
        "print('')\n",
        "\n",
        "dp_matrix_bp, backpointers = nussinov_with_backpointers(mock_3)\n",
        "base_pairs_bp = traceback_with_backpointers(dp_matrix_bp, backpointers)\n",
        "print('The score by Nussinov Algorithm with backpointers: ' + str(len(base_pairs_bp)))\n",
        "print('The base pairs: ' + str(base_pairs_bp))\n",
        "print_base_pairs(mock_3, base_pairs_bp)"
      ],
      "execution_count": 7,
      "outputs": [
        {
          "output_type": "stream",
          "text": [
            "The score by Nussinov Algorithm: 10\n",
            "The base pairs: [(1, 26), (2, 25), (5, 18), (6, 17), (9, 16), (11, 15), (13, 14), (19, 24), (20, 23), (21, 22)]\n",
            "('U', 'A')\n",
            "('U', 'A')\n",
            "('U', 'A')\n",
            "('G', 'A')\n",
            "('A', 'C')\n",
            "('C', 'G')\n",
            "('C', 'G')\n",
            "('C', 'G')\n",
            "('A', 'U')\n",
            "('A', 'U')\n",
            "\n",
            "The score by Nussinov Algorithm with backpointers: 10\n",
            "The base pairs: [(0, 26), (1, 25), (3, 24), (5, 18), (6, 10), (12, 17), (13, 14), (15, 16), (20, 23), (21, 22)]\n",
            "('U', 'A')\n",
            "('U', 'A')\n",
            "('C', 'G')\n",
            "('U', 'A')\n",
            "('G', 'C')\n",
            "('U', 'A')\n",
            "('C', 'G')\n",
            "('G', 'C')\n",
            "('A', 'U')\n",
            "('A', 'U')\n"
          ],
          "name": "stdout"
        }
      ]
    },
    {
      "cell_type": "code",
      "metadata": {
        "id": "SG1lzrqzlRxn"
      },
      "source": [
        "# Test performance on real sequences from Rfam\n",
        "file_1 = open('RF00162_AF027868.1_5245-5154.fasta', 'r')\n",
        "sequence_1 = file_1.read()\n",
        "file_1.close()\n",
        "idx = sequence_1.find('\\n')\n",
        "sequence_1 = sequence_1[idx + 1:]\n",
        "\n",
        "# The alignment by Rfam\n",
        "alignment_1 = [(0, 91), (1, 90), (3, 88), (4, 87), (5, 86), (6, 85), (7, 84), (14, 39), (15, 38), (16, 37), \n",
        "               (20, 30), (21, 29), (22, 28), (42, 58), (43, 57), (44, 56), (46, 55), (47, 54), (48, 53), \n",
        "               (67, 80), (68, 79), (69, 78), (70, 77)]"
      ],
      "execution_count": 8,
      "outputs": []
    },
    {
      "cell_type": "code",
      "metadata": {
        "id": "is5W3twUlXmX",
        "colab": {
          "base_uri": "https://localhost:8080/"
        },
        "outputId": "b446451d-6cb3-42ed-94b8-c6264575ffe2"
      },
      "source": [
        "print('The sequence: ' + sequence_1)\n",
        "print('The score by Rfam: ' + str(len(alignment_1)) + '\\n')\n",
        "\n",
        "dp_matrix = nussinov(sequence_1)\n",
        "base_pairs = traceback(dp_matrix)\n",
        "print('The score by Nussinov Algorithm: ' + str(len(base_pairs)))\n",
        "print('Similarity: ' + str(compare_base_pairs(base_pairs, alignment_1)) + '\\n')\n",
        "\n",
        "dp_matrix_bp, backpointers = nussinov_with_backpointers(sequence_1)\n",
        "base_pairs_bp = traceback_with_backpointers(dp_matrix_bp, backpointers)\n",
        "print('The score by Nussinov Algorithm with backpointers: ' + str(len(base_pairs_bp)))\n",
        "print('Similarity: ' + str(compare_base_pairs(base_pairs_bp, alignment_1)))"
      ],
      "execution_count": 9,
      "outputs": [
        {
          "output_type": "stream",
          "text": [
            "The sequence: UUUCUAUCCAGAGAGGUGGAGGGACUGGCCCUAUGAAACCUCGGCAACAUUAUUGUGCCAAUUCCAGCAAGCGCUAGCUUGAAAGAUAGGAA\n",
            "The score by Rfam: 23\n",
            "\n",
            "The score by Nussinov Algorithm: 39\n",
            "Similarity: 7\n",
            "\n",
            "The score by Nussinov Algorithm with backpointers: 39\n",
            "Similarity: 3\n"
          ],
          "name": "stdout"
        }
      ]
    },
    {
      "cell_type": "code",
      "metadata": {
        "id": "Ea5qkXuQvKpo"
      },
      "source": [
        "file_2 = open('RF03135_URS0001A2386A_28892.fasta', 'r')\n",
        "sequence_2 = file_2.read()\n",
        "file_2.close()\n",
        "idx = sequence_2.find('\\n')\n",
        "sequence_2 = sequence_2[idx + 1:-1]\n",
        "\n",
        "# The alignment by Rfam\n",
        "alignment_2 = [(0, 72), (1, 71), (2, 70), (3, 69), (4, 68), (7, 63), (8, 62), (9, 61), (14, 39), \n",
        "               (15, 38), (16, 37), (17, 36), (21, 34), (22, 33), (23, 32), (24, 31), (42, 56), (43, 55), \n",
        "               (44, 54), (45, 53), (46, 52)]"
      ],
      "execution_count": 10,
      "outputs": []
    },
    {
      "cell_type": "code",
      "metadata": {
        "colab": {
          "base_uri": "https://localhost:8080/"
        },
        "id": "uJGVumkcvVbw",
        "outputId": "9733a071-aa21-4b60-8097-460782936bf6"
      },
      "source": [
        "print('The sequence: ' + sequence_2)\n",
        "print('The score by Rfam: ' + str(len(alignment_2)) + '\\n')\n",
        "\n",
        "dp_matrix = nussinov(sequence_2)\n",
        "base_pairs = traceback(dp_matrix)\n",
        "print('The score by Nussinov Algorithm: ' + str(len(base_pairs)))\n",
        "print('Similarity: ' + str(compare_base_pairs(base_pairs, alignment_2)) + '\\n')\n",
        "\n",
        "dp_matrix_bp, backpointers = nussinov_with_backpointers(sequence_2)\n",
        "base_pairs_bp = traceback_with_backpointers(dp_matrix_bp, backpointers)\n",
        "print('The score by Nussinov Algorithm with backpointers: ' + str(len(base_pairs_bp)))\n",
        "print('Similarity: ' + str(compare_base_pairs(base_pairs_bp, alignment_2)))"
      ],
      "execution_count": 11,
      "outputs": [
        {
          "output_type": "stream",
          "text": [
            "The sequence: CUGAUCCGUGUAAUGGGCCUCCGCCCGUGCAGGCGAGCCCGGCCGGCCCCGUGCCGGCAUGCACAACGAUCAG\n",
            "The score by Rfam: 21\n",
            "\n",
            "The score by Nussinov Algorithm: 34\n",
            "Similarity: 4\n",
            "\n",
            "The score by Nussinov Algorithm with backpointers: 34\n",
            "Similarity: 8\n"
          ],
          "name": "stdout"
        }
      ]
    }
  ]
}